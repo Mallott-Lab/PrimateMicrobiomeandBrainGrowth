{
 "cells": [
  {
   "cell_type": "markdown",
   "id": "42b82faf",
   "metadata": {},
   "source": [
    "## 16S Analysis\n",
    "This code was run in QIIME2 (v.2019.10) and was used to analyze primate fecal sample communities (stocks) from three primate species and germ free mice inoculated with those stocks. We performed both an analysis of all samples together (stocks + mice) and just the experimental samples (mice). Some analyses were performed in a high performance computing environment, while others were performed locally.\n",
    "\n",
    "## All\n",
    "This analysis is of all samples: human, squirrel monkey, and macaque stock communities and the first and last fecal collection timepoints from the mice.\n",
    "\n",
    "### Import data\n",
    "Data was imported into QIIME and visualized in a high performance commputing environment. Because of differences in sequencing between stocks and experimental samples, only forward reads were used for this analysis."
   ]
  },
  {
   "cell_type": "code",
   "execution_count": null,
   "id": "185f81d6",
   "metadata": {},
   "outputs": [],
   "source": [
    "srun --account=b1057 --time=2:00:00 --partition=b1057 --mem=4G --pty bash -l\n",
    "\n",
    "module load singularity\n",
    "\n",
    "singularity exec -B /projects/b1057 -B /projects/b1057/kramato \\\n",
    "    -B /projects/p30050  /projects/b1057/qiime2-core-2019-4.simg \\\n",
    "    qiime tools import --type 'SampleData[SequencesWithQuality]' \\\n",
    "    --input-path /projects/b1057/kramato/gf_mouse/micemanifest_single.csv \\\n",
    "    --output-path /projects//b1057/kramato/gf_mouse/mouse-all-single-end-demux.qza \\\n",
    "    --input-format SingleEndFastqManifestPhred33\n",
    "\n",
    "srun --account=b1057 --time=2:00:00 --partition=b1057 --mem=4G --pty bash -l\n",
    "module load singularity\n",
    "singularity exec -B /projects/b1057 -B /projects/b1057/kramato \\\n",
    "    -B /projects/p30050  /projects/b1057/qiime2-core-2019-4.simg \\\n",
    "    qiime tools import --type 'SampleData[SequencesWithQuality]' \\\n",
    "    --input-path /projects/b1057/kramato/gf_mouse/micemanifest_single.csv \\\n",
    "    --output-path /projects//b1057/kramato/gf_mouse/mouse-all-single-end-demux.qza \\\n",
    "    --input-format SingleEndFastqManifestPhred33\n"
   ]
  },
  {
   "cell_type": "markdown",
   "id": "45a01355",
   "metadata": {},
   "source": [
    "### Denoising\n",
    "Sequences were denoised using the DADA2 algorithm in a high performance commputing environment."
   ]
  },
  {
   "cell_type": "code",
   "execution_count": null,
   "id": "91f5b94a",
   "metadata": {},
   "outputs": [],
   "source": [
    "singularity exec -B /projects/b1057 \\\n",
    "    -B /projects/b1057/kramato /projects/b1057/qiime2-core-2019-4.simg \\\n",
    "    qiime dada2 denoise-single \\\n",
    "    --i-demultiplexed-seqs /projects//b1057/kramato/gf_mouse/mouse-all-single-end-demux.qza \\\n",
    "    --p-trunc-len 150 --p-trim-left 20 --p-max-ee 5 --p-n-threads 8 \\\n",
    "    --o-table /projects/b1057/kramato/gf_mouse/mouse-all-single-table.qza \\\n",
    "    --o-representative-sequences /projects/b1057/kramato/gf_mouse/mouse-all-single-rep-seqs.qza \\\n",
    "    --o-denoising-stats /projects/b1057/kramato/gf_mouse/mouse-all-single-dada2denoising-stats.qza\n"
   ]
  },
  {
   "cell_type": "markdown",
   "id": "e07038c6",
   "metadata": {},
   "source": [
    "### Feature table visualization\n",
    "The results of the DADA2 workflow were visualized locally."
   ]
  },
  {
   "cell_type": "code",
   "execution_count": null,
   "id": "30050e78",
   "metadata": {},
   "outputs": [],
   "source": [
    "qiime feature-table tabulate-seqs --i-data mouse-all-single-rep-seqs.qza \\\n",
    "    --o-visualization mouse-all-single-rep-seqs.qzv\n",
    "\n",
    "qiime feature-table summarize --i-table mouse-all-single-table.qza \\\n",
    "    --m-sample-metadata-file mapping_all.txt \\\n",
    "    --o-visualization mouse-all-single-table.qzv\n",
    "\n",
    "qiime metadata tabulate --m-input-file mouse-all-single-dada2denoising-stats.qza \\\n",
    "    --o-visualization mouse-all-single-dada2denoising-stats.qzv\n"
   ]
  },
  {
   "cell_type": "markdown",
   "id": "da71762c",
   "metadata": {},
   "source": [
    "### Phylogenetic tree generation\n",
    "Phylogenetic trees were generated using a standard workflow in QIIME2."
   ]
  },
  {
   "cell_type": "code",
   "execution_count": null,
   "id": "84eb63ec",
   "metadata": {},
   "outputs": [],
   "source": [
    "qiime phylogeny align-to-tree-mafft-fasttree --i-sequences mouse-all-single-rep-seqs.qza \\\n",
    "    --o-alignment mouse-all-single-aligned-rep-seqs.qza \\\n",
    "    --o-masked-alignment mouse-all-single-masked-aligned-rep-seqs.qza \\\n",
    "    --o-tree mouse-all-single-unrooted-tree.qza \\\n",
    "    --o-rooted-tree mouse-all-single-rooted-tree.qza\n"
   ]
  },
  {
   "cell_type": "markdown",
   "id": "ea6e35b2",
   "metadata": {},
   "source": [
    "### Filtering tables\n",
    "Mitochondrial and chloroplast sequences were filtered from the feature tables."
   ]
  },
  {
   "cell_type": "code",
   "execution_count": null,
   "id": "e0fb7ed7",
   "metadata": {},
   "outputs": [],
   "source": [
    "qiime taxa filter-table --i-table mouse-all-single-table.qza \\\n",
    "    --i-taxonomy mouse-all-single-taxonomy.qza \\\n",
    "    --p-exclude mitochondria,chloroplast \\\n",
    "    --o-filtered-table mouse-all-single-table-nomito-nochloro.qza\n",
    "\n",
    "qiime feature-table summarize --i-table mouse-all-single-table-nomito-nochloro.qza \\\n",
    "    --m-sample-metadata-file mapping_all.txt \\\n",
    "    --o-visualization mouse-all-single-table-nomito-nochloro.qzv\n"
   ]
  },
  {
   "cell_type": "markdown",
   "id": "a1327149",
   "metadata": {},
   "source": [
    "### Alpha diversity\n",
    "Alpha diversity indices were calculated in QIIME using both the metrics from the standard workflows and Breakaway. Alpha diversity indices were exported for downstream statistical analysis in R."
   ]
  },
  {
   "cell_type": "code",
   "execution_count": null,
   "id": "adde8a96",
   "metadata": {},
   "outputs": [],
   "source": [
    "qiime diversity alpha-rarefaction --i-table mouse-all-single-table.qza \\\n",
    "    --i-phylogeny mouse-all-single-rooted-tree.qza \\\n",
    "    --o-visualization alpha_rarefaction --p-max-depth 30000\n",
    "\n",
    "qiime breakaway alpha --i-table mouse-all-single-table-nomito-nochloro.qza \\\n",
    "    --o-alpha-diversity breakaway-richness\n",
    "\n",
    "qiime tools export --input-path breakaway-richness.qza \\\n",
    "    --output-path breakaway-richness\n",
    "\n",
    "qiime diversity alpha-phylogenetic --i-table mouse-all-single-table-nomito-nochloro.qza \\\n",
    "    --i-phylogeny mouse-all-single-rooted-tree.qza \\\n",
    "    --o-alpha-diversity pd_diversity --p-metric faith_pd\n",
    "\n",
    "qiime diversity alpha --i-table mouse-all-single-table-nomito-nochloro.qza \\\n",
    "    --o-alpha-diversity mouse-all-single-shannon --p-metric shannon\n",
    "\n",
    "qiime tools export --input-path pd_diversity.qza --output-path pd_diversity\n",
    "\n",
    "qiime tools export --input-path mouse-all-single-shannon.qza --output-path shannon\n"
   ]
  },
  {
   "cell_type": "markdown",
   "id": "180473e2",
   "metadata": {},
   "source": [
    "### Beta diversity\n",
    "Beta diversity distance matrices were calculated in QIIME. Distance matrices were exported for downstream statistical analysis in R. Samples were rarefied to 10,177 ASVs, which retained all samples."
   ]
  },
  {
   "cell_type": "code",
   "execution_count": null,
   "id": "07e4fde7",
   "metadata": {},
   "outputs": [],
   "source": [
    "qiime feature-table filter-samples --i-table mouse-all-single-table-nomito-nochloro.qza \\\n",
    "    --m-metadata-file mapping_all_updated_072722.txt --p-where \"[Age]='adult'\" \\\n",
    "    --o-filtered-table mouse-all-single-table-nomito-nochloro-noinfant.qza\n",
    "\n",
    "qiime diversity core-metrics-phylogenetic --i-table mouse-all-single-table-nomito-nochloro-noinfant.qza \\\n",
    "    --i-phylogeny mouse-all-single-rooted-tree.qza --p-sampling-depth 10177 \\\n",
    "    --m-metadata-file mapping_all_updated_072722_noinfant.txt \\\n",
    "    --output-dir core-diversity-even10177-noinfant\n",
    "\n",
    "qiime tools export --input-path core-diversity-even10177-noinfant/unweighted_unifrac_distance_matrix.qza \\\n",
    "    --output-path core-diversity-even10177-noinfant/unweighted_unifrac_distance_matrix\n",
    "\n",
    "qiime tools export --input-path core-diversity-even10177-noinfant/weighted_unifrac_distance_matrix.qza \\\n",
    "    --output-path core-diversity-even10177-noinfant/weighted_unifrac_distance_matrix\n"
   ]
  },
  {
   "cell_type": "markdown",
   "id": "e433a32d",
   "metadata": {},
   "source": [
    "### Export feature tables\n",
    "Relative abundance feature tables at the level of phyla, family and genus were created and exported."
   ]
  },
  {
   "cell_type": "code",
   "execution_count": null,
   "id": "280a9c66",
   "metadata": {},
   "outputs": [],
   "source": [
    "qiime taxa collapse --i-table mouse-all-single-table-nomito-nochloro-noinfant.qza \\\n",
    "    --i-taxonomy mouse-all-single-taxonomy.qza --p-level 2 \\\n",
    "    --o-collapsed-table table-filtered-all-level2-noinfant.qza\n",
    "\n",
    "qiime taxa collapse --i-table mouse-all-single-table-nomito-nochloro-noinfant.qza \\\n",
    "    --i-taxonomy mouse-all-single-taxonomy.qza --p-level 5 \\\n",
    "    --o-collapsed-table table-filtered-all-level5-noinfant.qza\n",
    "\n",
    "qiime taxa collapse --i-table mouse-all-single-table-nomito-nochloro-noinfant.qza \\\n",
    "    --i-taxonomy mouse-all-single-taxonomy.qza --p-level 6 \\\n",
    "    --o-collapsed-table table-filtered-all-level6-noinfant.qza\n",
    "\n",
    "qiime feature-table relative-frequency --i-table table-filtered-all-level2-noinfant.qza \\\n",
    "    --o-relative-frequency-table table-filtered-all-level2-relab-noinfant.qza\n",
    "\n",
    "qiime feature-table relative-frequency --i-table table-filtered-all-level5-noinfant.qza \\\n",
    "    --o-relative-frequency-table table-filtered-all-level5-relab-noinfant.qza\n",
    "\n",
    "qiime feature-table relative-frequency --i-table table-filtered-all-level6-noinfant.qza \\\n",
    "    --o-relative-frequency-table table-filtered-all-level6-relab-noinfant.qza\n",
    "\n",
    "qiime tools export --input-path table-filtered-all-level2-relab-noinfant.qza \\\n",
    "    --output-path exported/level2\n",
    "\n",
    "qiime tools export --input-path table-filtered-all-level5-relab-noinfant.qza \\\n",
    "    --output-path exported/level5\n",
    "\n",
    "qiime tools export --input-path table-filtered-all-level6-relab-noinfant.qza \\\n",
    "    --output-path exported/level6\n",
    "\n",
    "biom convert -i exported/level2/feature-table.biom \\\n",
    "    -o feature-table-level2-relab-noinfant.tsv --to-tsv\n",
    "\n",
    "biom convert -i exported/level5/feature-table.biom \\\n",
    "    -o feature-table-level5-relab-noinfant.tsv --to-tsv\n",
    "\n",
    "biom convert -i exported/level6/feature-table.biom \\\n",
    "    -o feature-table-level6-relab-noinfant.tsv --to-tsv"
   ]
  },
  {
   "cell_type": "markdown",
   "id": "df47df5c",
   "metadata": {},
   "source": [
    "### Core microbiome analysis\n",
    "We also calculated core microbes shared across stocks and timepoints.\n",
    "\n",
    "First, we filtered the feature table to include all samples of one stock species plus all samples from either the first or last timepoint."
   ]
  },
  {
   "cell_type": "code",
   "execution_count": null,
   "id": "d8c690f5",
   "metadata": {},
   "outputs": [],
   "source": [
    "qiime feature-table filter-samples --i-table mouse-all-single-table-nomito-nochloro.qza \\\n",
    "    --m-metadata-file mapping_all.txt --p-where \"[Stock_species]='human'\" \\\n",
    "    --o-filtered-table mouse-all-single-table-nomito-nochloro-human-only.qza\n",
    "\n",
    "qiime feature-table filter-samples --i-table mouse-all-single-table-nomito-nochloro.qza \\\n",
    "    --m-metadata-file mapping_all.txt --p-where \"[Stock]='human_infant'\" \\\n",
    "    --o-filtered-table mouse-all-single-table-nomito-nochloro-human-infant-only.qza\n",
    "\n",
    "qiime feature-table filter-samples --i-table mouse-all-single-table-nomito-nochloro.qza \\\n",
    "    --m-metadata-file mapping_all.txt --p-where \"[Stock]='human_adult'\" \\\n",
    "    --o-filtered-table mouse-all-single-table-nomito-nochloro-human-adult-only.qza\n",
    "\n",
    "qiime feature-table filter-samples --i-table mouse-all-single-table-nomito-nochloro.qza \\\n",
    "    --m-metadata-file mapping_all.txt --p-where \"[Stock_species]='macaque'\" \\\n",
    "    --o-filtered-table mouse-all-single-table-nomito-nochloro-macque-only.qza\n",
    "\n",
    "qiime feature-table filter-samples --i-table mouse-all-single-table-nomito-nochloro.qza \\\n",
    "    --m-metadata-file mapping_all.txt --p-where \"[Stock]='macaque_infant'\" \\\n",
    "    --o-filtered-table mouse-all-single-table-nomito-nochloro-macaque-infant-only.qza\n",
    "\n",
    "qiime feature-table filter-samples --i-table mouse-all-single-table-nomito-nochloro.qza \\\n",
    "    --m-metadata-file mapping_all.txt --p-where \"[Stock]='macaque_adult'\" \\\n",
    "    --o-filtered-table mouse-all-single-table-nomito-nochloro-macaque-adult-only.qza\n",
    "\n",
    "qiime feature-table filter-samples --i-table mouse-all-single-table-nomito-nochloro.qza \\\n",
    "    --m-metadata-file mapping_all.txt --p-where \"[Stock_species]='SQM'\" \\\n",
    "    --o-filtered-table mouse-all-single-table-nomito-nochloro-sqm-only.qza\n",
    "\n",
    "qiime feature-table filter-samples --i-table mouse-all-single-table-nomito-nochloro.qza \\\n",
    "    --m-metadata-file mapping_all.txt --p-where \"[Stock]='SQM_infant'\" \\\n",
    "    --o-filtered-table mouse-all-single-table-nomito-nochloro-sqm-infant-only.qza\n",
    "\n",
    "qiime feature-table filter-samples --i-table mouse-all-single-table-nomito-nochloro.qza \\\n",
    "    --m-metadata-file mapping_all.txt --p-where \"[Stock]='SQM_adult'\" \\\n",
    "    --o-filtered-table mouse-all-single-table-nomito-nochloro-sqm-adult-only.qza\n",
    "\n",
    "qiime feature-table filter-samples --i-table mouse-all-single-table-nomito-nochloro.qza \\\n",
    "    --m-metadata-file mapping_all.txt --p-where \"[Timepoint]='stock'\" \\\n",
    "    --o-filtered-table mouse-all-single-table-nomito-nochloro-stocks-only.qza\n",
    "\n",
    "qiime feature-table filter-samples --i-table mouse-all-single-table-nomito-nochloro.qza \\\n",
    "    --m-metadata-file mapping_all.txt --p-where \"[Timepoint]='first'\" \\\n",
    "    --o-filtered-table mouse-all-single-table-nomito-nochloro-first-only.qza\n",
    "\n",
    "qiime feature-table filter-samples --i-table mouse-all-single-table-nomito-nochloro.qza \\\n",
    "    --m-metadata-file mapping_all.txt --p-where \"[Timepoint]='last'\" \\\n",
    "    --o-filtered-table mouse-all-single-table-nomito-nochloro-last-only.qza\n",
    "\n",
    "qiime feature-table filter-samples --i-table mouse-all-single-table-nomito-nochloro-stocks-only.qza \\\n",
    "    --m-metadata-file mapping_all.txt --p-where \"[Age]='adult'\" \\\n",
    "    --o-filtered-table mouse-all-single-table-nomito-nochloro-stocks-adult-only.qza\n",
    "\n",
    "qiime feature-table filter-samples --i-table mouse-all-single-table-nomito-nochloro-first-only.qza \\\n",
    "    --m-metadata-file mapping_all.txt --p-where \"[Age]='adult'\" \\\n",
    "    --o-filtered-table mouse-all-single-table-nomito-nochloro-first-adult-only.qza\n",
    "\n",
    "qiime feature-table filter-samples --i-table mouse-all-single-table-nomito-nochloro-last-only.qza \\\n",
    "    --m-metadata-file mapping_all.txt --p-where \"[Age]='adult'\" \\\n",
    "    --o-filtered-table mouse-all-single-table-nomito-nochloro-last-adult-only.qza\n",
    "\n",
    "qiime feature-table filter-samples --i-table mouse-all-single-table-nomito-nochloro-stocks-only.qza \\\n",
    "    --m-metadata-file mapping_all.txt --p-where \"[Age]='infant'\" \\\n",
    "    --o-filtered-table mouse-all-single-table-nomito-nochloro-stocks-infant-only.qza\n",
    "\n",
    "qiime feature-table filter-samples --i-table mouse-all-single-table-nomito-nochloro-first-only.qza \\\n",
    "    --m-metadata-file mapping_all.txt --p-where \"[Age]='infant'\" \\\n",
    "    --o-filtered-table mouse-all-single-table-nomito-nochloro-first-infant-only.qza\n",
    "\n",
    "qiime feature-table filter-samples --i-table mouse-all-single-table-nomito-nochloro-last-only.qza \\\n",
    "    --m-metadata-file mapping_all.txt --p-where \"[Age]='infant'\" \\\n",
    "    --o-filtered-table mouse-all-single-table-nomito-nochloro-last-infant-only.qza"
   ]
  },
  {
   "cell_type": "markdown",
   "id": "664fa0cc",
   "metadata": {},
   "source": [
    "We then calculated core features."
   ]
  },
  {
   "cell_type": "code",
   "execution_count": null,
   "id": "2bd1210e",
   "metadata": {},
   "outputs": [],
   "source": [
    "qiime feature-table core-features --i-table mouse-all-single-table-nomito-nochloro-human-only.qza \\\n",
    "    --output-dir humans-only-core\n",
    "\n",
    "qiime feature-table core-features --i-table mouse-all-single-table-nomito-nochloro-macque-only.qza \\\n",
    "    --output-dir macaque-only-core\n",
    "\n",
    "qiime feature-table core-features --i-table mouse-all-single-table-nomito-nochloro-sqm-only.qza \\\n",
    "    --output-dir sqm-only-core\n",
    "\n",
    "qiime feature-table core-features --i-table mouse-all-single-table-nomito-nochloro-stocks-only.qza \\\n",
    "    --output-dir stock-only-core\n",
    "\n",
    "qiime feature-table core-features --i-table mouse-all-single-table-nomito-nochloro-first-only.qza \\\n",
    "    --output-dir first-only-core\n",
    "\n",
    "qiime feature-table core-features --i-table mouse-all-single-table-nomito-nochloro-last-only.qza \\\n",
    "    --output-dir last-only-core\n",
    "\n",
    "qiime feature-table core-features --i-table mouse-all-single-table-nomito-nochloro-human-adult-only.qza \\\n",
    "    --output-dir humans-adult-only-core\n",
    "\n",
    "qiime feature-table core-features --i-table mouse-all-single-table-nomito-nochloro-macaque-adult-only.qza \\\n",
    "    --output-dir macaque-adult-only-core\n",
    "\n",
    "qiime feature-table core-features --i-table mouse-all-single-table-nomito-nochloro-sqm-adult-only.qza \\\n",
    "    --output-dir sqm-adult-only-core\n",
    "\n",
    "qiime feature-table core-features --i-table mouse-all-single-table-nomito-nochloro-stocks-adult-only.qza \\\n",
    "    --output-dir stock-adult-only-core\n",
    "\n",
    "qiime feature-table core-features --i-table mouse-all-single-table-nomito-nochloro-first-adult-only.qza \\\n",
    "    --output-dir first-adult-only-core\n",
    "\n",
    "qiime feature-table core-features --i-table mouse-all-single-table-nomito-nochloro-last-adult-only.qza \\\n",
    "    --output-dir last-adult-only-core\n",
    "\n",
    "qiime feature-table core-features --i-table mouse-all-single-table-nomito-nochloro-human-infant-only.qza \\\n",
    "    --output-dir humans-infant-only-core\n",
    "\n",
    "qiime feature-table core-features --i-table mouse-all-single-table-nomito-nochloro-macaque-infant-only.qza \\\n",
    "    --output-dir macaque-infant-only-core\n",
    "\n",
    "qiime feature-table core-features --i-table mouse-all-single-table-nomito-nochloro-sqm-infant-only.qza \\\n",
    "    --output-dir sqm-infant-only-core\n",
    "\n",
    "qiime feature-table core-features --i-table mouse-all-single-table-nomito-nochloro-stocks-infant-only.qza \\\n",
    "    --output-dir stock-infant-only-core\n",
    "\n",
    "qiime feature-table core-features --i-table mouse-all-single-table-nomito-nochloro-first-infant-only.qza \\\n",
    "    --output-dir first-infant-only-core\n",
    "\n",
    "qiime feature-table core-features --i-table mouse-all-single-table-nomito-nochloro-last-infant-only.qza \\\n",
    "    --output-dir last-infant-only-core"
   ]
  },
  {
   "cell_type": "markdown",
   "id": "23b88949",
   "metadata": {},
   "source": [
    "## Experimental\n",
    "This analysis is of all samples: human, squirrel monkey, and macaque stock communities and the first and last fecal collection timepoints from the mice.\n",
    "\n",
    "### Import data\n",
    "Data was imported into QIIME and visualized in a high performance commputing environment. Forward and reverse reads were used for this analysis."
   ]
  },
  {
   "cell_type": "code",
   "execution_count": null,
   "id": "5560d68d",
   "metadata": {},
   "outputs": [],
   "source": [
    "srun --account=b1057 --time=2:00:00 --partition=b1057 --mem=4G --pty bash -l\n",
    "        \n",
    "module load singularity\n",
    "\n",
    "singularity exec -B /projects/b1057 -B /projects/b1057/kramato \\\n",
    "    -B /projects/p30050 /projects/b1057/qiime2-core-2019-4.simg \\\n",
    "    qiime tools import --type 'SampleData[PairedEndSequencesWithQuality]' \\\n",
    "    --input-path /projects/b1057/kramato/gf_mouse/micemanifest_exp_only.csv \\\n",
    "    --output-path /projects/b1057/kramato/gf_mouse/mouse-exp-paired-end-demux.qza \\\n",
    "    --input-format PairedEndFastqManifestPhred33\n",
    "\n",
    "singularity exec -B /projects/b1057 -B /projects/b1057/kramato /projects/b1057/qiime2-core-2019-4.simg \\\n",
    "    qiime demux summarize --i-data /projects/b1057/kramato/gf_mouse/mouse-exp-paired-end-demux.qza \\\n",
    "    --o-visualization /projects//b1057/kramato/gf_mouse/mouse-exp-paired-end-demux.qzv"
   ]
  },
  {
   "cell_type": "markdown",
   "id": "d39de74e",
   "metadata": {},
   "source": [
    "### Denoising\n",
    "Sequences were denoised using the DADA2 algorithm in a high performance commputing environment."
   ]
  },
  {
   "cell_type": "code",
   "execution_count": null,
   "id": "86bb780d",
   "metadata": {},
   "outputs": [],
   "source": [
    "singularity exec -B /projects/b1057 -B /projects/b1057/kramato /projects/b1057/qiime2-core-2019-4.simg \\\n",
    "    qiime dada2 denoise-paired --i-demultiplexed-seqs /projects//b1057/kramato/gf_mouse/mouse-exp-paired-end-demux.qza \\\n",
    "    --p-trunc-len-f 270 --p-trunc-len-r 270 --p-trim-left-f 20 --p-trim-left-r 20 --p-max-ee 5 \\\n",
    "    --p-n-threads 8 --o-table /projects/b1057/kramato/gf_mouse/mouse-exp-table.qza \\\n",
    "    --o-representative-sequences /projects/b1057/kramato/gf_mouse/mouse-exp-rep-seqs.qza \\\n",
    "    --o-denoising-stats /projects/b1057/kramato/gf_mouse/mouse-exp-dada2denoising-stats.qza\n"
   ]
  },
  {
   "cell_type": "markdown",
   "id": "dcd96a89",
   "metadata": {},
   "source": [
    "### Feature table visualization\n",
    "The results of the DADA2 workflow were visualized locally."
   ]
  },
  {
   "cell_type": "code",
   "execution_count": null,
   "id": "6ae20a92",
   "metadata": {},
   "outputs": [],
   "source": [
    "qiime feature-table tabulate-seqs --i-data mouse-exp-rep-seqs.qza --o-visualization mouse-exp-paired-rep-seqs.qzv\n",
    "\n",
    "qiime feature-table summarize --i-table mouse-exp-table.qza --m-sample-metadata-file mapping_exp.txt \\\n",
    "    --o-visualization mouse-exp-paired-table.qzv\n",
    "\n",
    "qiime metadata tabulate --m-input-file mouse-exp-dada2denoising-stats.qza \\\n",
    "    --o-visualization mouse-exp-paired-dada2denoising-stats.qzv\n"
   ]
  },
  {
   "cell_type": "markdown",
   "id": "719abcd5",
   "metadata": {},
   "source": [
    "### Phylogenetic tree generation\n",
    "Phylogenetic trees were generated using a standard workflow in QIIME2."
   ]
  },
  {
   "cell_type": "code",
   "execution_count": null,
   "id": "f6f48e40",
   "metadata": {},
   "outputs": [],
   "source": [
    "qiime phylogeny align-to-tree-mafft-fasttree --i-sequences mouse-exp-rep-seqs.qza \\\n",
    "    --o-alignment mouse-exp-aligned-rep-seqs.qza --o-masked-alignment mouse-exp-masked-aligned-rep-seqs.qza \\\n",
    "    --o-tree mouse-exp-unrooted-tree.qza --o-rooted-tree mouse-exp-paired-rooted-tree.qza"
   ]
  },
  {
   "cell_type": "markdown",
   "id": "3df966bc",
   "metadata": {},
   "source": [
    "### Filtering tables\n",
    "Mitochondrial and chloroplast sequences were filtered from the feature tables."
   ]
  },
  {
   "cell_type": "code",
   "execution_count": null,
   "id": "06aa9e29",
   "metadata": {},
   "outputs": [],
   "source": [
    "qiime taxa filter-table --i-table mouse-exp-table.qza --i-taxonomy exp-taxonomy.qza \\\n",
    "    --p-exclude mitochondria,chloroplast --o-filtered-table mouse-exp-paired-table-nomito-nochloro.qza\n",
    "\n",
    "qiime feature-table summarize --i-table mouse-exp-paired-table-nomito-nochloro.qza \\\n",
    "    --m-sample-metadata-file mapping_exp.txt --o-visualization mouse-exp-paired-table-nomito-nochloro.qzv"
   ]
  },
  {
   "cell_type": "markdown",
   "id": "d6d6488d",
   "metadata": {},
   "source": [
    "### Alpha diversity\n",
    "Alpha diversity indices were calculated in QIIME using both the metrics from the standard workflows and Breakaway. Alpha diversity indices were exported for downstream statistical analysis in R."
   ]
  },
  {
   "cell_type": "code",
   "execution_count": null,
   "id": "653651e6",
   "metadata": {},
   "outputs": [],
   "source": [
    "qiime diversity alpha-rarefaction --i-table mouse-exp-table.qza --i-phylogeny mouse-exp-paired-rooted-tree.qza \\\n",
    "    --o-visualization alpha_rarefaction --p-max-depth 40000\n",
    "\n",
    "qiime breakaway alpha --i-table mouse-exp-paired-table-nomito-nochloro.qza --o-alpha-diversity breakaway-richness\n",
    "\n",
    "qiime tools export --input-path breakaway-richness.qza --output-path breakaway-richness\n",
    "\n",
    "qiime diversity alpha-phylogenetic --i-table mouse-exp-paired-table-nomito-nochloro.qza \\\n",
    "    --i-phylogeny exp-rooted-tree.qza --o-alpha-diversity pd_diversity --p-metric faith_pd\n",
    "\n",
    "qiime diversity alpha --i-table mouse-exp-paired-table-nomito-nochloro.qza \\\n",
    "    --o-alpha-diversity mouse-exp-paired-shannon --p-metric shannon\n",
    "\n",
    "qiime tools export --input-path pd_diversity.qza --output-path pd_diversity\n",
    "\n",
    "qiime tools export --input-path mouse-exp-paired-shannon.qza --output-path shannon\n"
   ]
  },
  {
   "cell_type": "markdown",
   "id": "e128c300",
   "metadata": {},
   "source": [
    "### Beta diversity\n",
    "Beta diversity distance matrices were calculated in QIIME. Distance matrices were exported for downstream statistical analysis in R. Samples were rarefied to 10,177 ASVs, which retained all samples."
   ]
  },
  {
   "cell_type": "code",
   "execution_count": null,
   "id": "9aac2d38",
   "metadata": {},
   "outputs": [],
   "source": [
    "qiime feature-table filter-samples --i-table mouse-exp-paired-table-nomito-nochloro.qza \\\n",
    "    --m-metadata-file mapping_exp_updated_072722.txt --p-where \"[Age]='adult'\" \\\n",
    "    --o-filtered-table mouse-exp-paired-table-nomito-nochloro-noinfant.qza\n",
    "\n",
    "qiime diversity core-metrics-phylogenetic --i-table mouse-exp-paired-table-nomito-nochloro-noinfant.qza \\\n",
    "    --i-phylogeny exp-rooted-tree.qza --p-sampling-depth 6573 \\\n",
    "    --m-metadata-file mapping_exp_updated_072722_noinfant.txt --output-dir core-diversity-even6573-noinfant\n",
    "\n",
    "qiime tools export --input-path core-diversity-even6573-noinfant/unweighted_unifrac_distance_matrix.qza \\\n",
    "    --output-path core-diversity-even6573-noinfant/unweighted_unifrac_distance_matrix\n",
    "\n",
    "qiime tools export --input-path core-diversity-even6573-noinfant/weighted_unifrac_distance_matrix.qza \\\n",
    "    --output-path core-diversity-even6573-noinfant/weighted_unifrac_distance_matrix\n"
   ]
  },
  {
   "cell_type": "markdown",
   "id": "465a9126",
   "metadata": {},
   "source": [
    "### Export feature tables\n",
    "Relative abundance feature tables at the level of phyla, family and genus were created and exported."
   ]
  },
  {
   "cell_type": "code",
   "execution_count": null,
   "id": "538b0489",
   "metadata": {},
   "outputs": [],
   "source": [
    "qiime taxa collapse --i-table mouse-exp-paired-table-nomito-nochloro-noinfant.qza --i-taxonomy exp-taxonomy.qza \\\n",
    "    --p-level 2 --o-collapsed-table table-filtered-all-level2-noinfant.qza\n",
    "\n",
    "qiime taxa collapse --i-table mouse-exp-paired-table-nomito-nochloro-noinfant.qza --i-taxonomy exp-taxonomy.qza \\\n",
    "    --p-level 5 --o-collapsed-table table-filtered-all-level5-noinfant.qza\n",
    "\n",
    "qiime taxa collapse --i-table mouse-exp-paired-table-nomito-nochloro-noinfant.qza --i-taxonomy exp-taxonomy.qza \\\n",
    "    --p-level 6 --o-collapsed-table table-filtered-all-level6-noinfant.qza\n",
    "\n",
    "qiime feature-table relative-frequency --i-table table-filtered-all-level2-noinfant.qza \\\n",
    "    --o-relative-frequency-table table-filtered-all-level2-relab-noinfant.qza\n",
    "\n",
    "qiime feature-table relative-frequency --i-table table-filtered-all-level5-noinfant.qza \\\n",
    "    --o-relative-frequency-table table-filtered-all-level5-relab-noinfant.qza\n",
    "\n",
    "qiime feature-table relative-frequency --i-table table-filtered-all-level6-noinfant.qza \\\n",
    "    --o-relative-frequency-table table-filtered-all-level6-relab-noinfant.qza\n",
    "\n",
    "qiime tools export --input-path table-filtered-all-level2-relab-noinfant.qza --output-path exported/level2-noinfant\n",
    "\n",
    "qiime tools export --input-path table-filtered-all-level5-relab-noinfant.qza --output-path exported/level5-noinfant\n",
    "\n",
    "qiime tools export --input-path table-filtered-all-level6-relab-noinfant.qza --output-path exported/level6-noinfant\n",
    "\n",
    "biom convert -i exported/level2-noinfant/feature-table.biom -o feature-table-level2-relab-noinfant.tsv --to-tsv\n",
    "\n",
    "biom convert -i exported/level5-noinfant/feature-table.biom -o feature-table-level5-relab-noinfant.tsv --to-tsv\n",
    "\n",
    "biom convert -i exported/level6-noinfant/feature-table.biom -o feature-table-level6-relab-noinfant.tsv --to-tsv\n"
   ]
  },
  {
   "cell_type": "markdown",
   "id": "96191048",
   "metadata": {},
   "source": [
    "### Absolute abundances\n",
    "Raw count feature tables were exported to transform to absolute abundances using 16S rt-qPCR data. Transformed tables were then reimported into QIIME, filtered, and exported for downstream statistical analysis in R."
   ]
  },
  {
   "cell_type": "code",
   "execution_count": null,
   "id": "7c7057b5",
   "metadata": {},
   "outputs": [],
   "source": [
    "qiime feature-table filter-samples --i-table mouse-exp-table.qza --m-metadata-file mapping_exp_updated_072722.txt \\\n",
    "    --p-where \"[Age]='adult'\" --o-filtered-table mouse-exp-paired-table-noinfant.qza\n",
    "\n",
    "qiime tools export --input-path  mouse-exp-paired-table-noinfant.qza --output-path mouse-exp-paired-table-noinfant\n",
    "\n",
    "biom convert -i mouse-exp-paired-table-noinfant/feature-table.biom -o mouse-exp-paired-table-noinfant.txt --to-tsv\n",
    "\n",
    "biom convert -i inferred_abundance_table_noinfant_t.txt -o inferred_abundance_table_noinfant.biom --to-hdf5 \\\n",
    "    --table-type=\"OTU table\"\n",
    "\n",
    "qiime tools import --input-path inferred_abundance_table_noinfant.biom --type 'FeatureTable[Frequency]' \\\n",
    "    --input-format BIOMV210Format --output-path inferred_abundance_table_noinfant.qza\n",
    "\n",
    "qiime taxa filter-table --i-table inferred_abundance_table_noinfant.qza --i-taxonomy exp-taxonomy.qza \\\n",
    "    --p-exclude mitochondria,chloroplast --o-filtered-table inferred_abundance_table-nomito-nochloro-noinfant.qza\n",
    "\n",
    "qiime tools export --input-path inferred_abundance_table-nomito-nochloro-noinfant.qza \\\n",
    "    --output-path exported/inferred-noinfant\n",
    "\n",
    "qiime taxa collapse --i-table inferred_abundance_table-nomito-nochloro-noinfant.qza \\\n",
    "    --i-taxonomy exp-taxonomy.qza --p-level 2 --o-collapsed-table inferred-table-filtered-level2-noinfant.qza\n",
    "\n",
    "qiime taxa collapse --i-table inferred_abundance_table-nomito-nochloro-noinfant.qza \\\n",
    "    --i-taxonomy exp-taxonomy.qza --p-level 5 --o-collapsed-table inferred-table-filtered-level5-noinfant.qza\n",
    "\n",
    "qiime taxa collapse --i-table inferred_abundance_table-nomito-nochloro-noinfant.qza \\\n",
    "    --i-taxonomy exp-taxonomy.qza --p-level 6 --o-collapsed-table inferred-table-filtered-level6-noinfant.qza\n",
    "\n",
    "qiime tools export --input-path inferred-table-filtered-level2-noinfant.qza \\\n",
    "    --output-path exported/inferred-level2-noinfant\n",
    "\n",
    "qiime tools export --input-path inferred-table-filtered-level5-noinfant.qza \\\n",
    "    --output-path exported/inferred-level5-noinfant\n",
    "\n",
    "qiime tools export --input-path inferred-table-filtered-level6-noinfant.qza \\\n",
    "    --output-path exported/inferred-level6-noinfant\n",
    "\n",
    "biom convert -i exported/inferred-level2-noinfant/feature-table.biom \\\n",
    "    -o inferred-feature-table-level2-relab-noinfant.tsv --to-tsv\n",
    "\n",
    "biom convert -i exported/inferred-level5-noinfant/feature-table.biom \\\n",
    "    -o inferred-feature-table-level5-relab-noinfant.tsv --to-tsv\n",
    "\n",
    "biom convert -i exported/inferred-level6-noinfant/feature-table.biom \\\n",
    "    -o inferred-feature-table-level6-relab-noinfant.tsv --to-tsv"
   ]
  }
 ],
 "metadata": {
  "kernelspec": {
   "display_name": "Python 3 (ipykernel)",
   "language": "python",
   "name": "python3"
  },
  "language_info": {
   "codemirror_mode": {
    "name": "ipython",
    "version": 3
   },
   "file_extension": ".py",
   "mimetype": "text/x-python",
   "name": "python",
   "nbconvert_exporter": "python",
   "pygments_lexer": "ipython3",
   "version": "3.9.12"
  }
 },
 "nbformat": 4,
 "nbformat_minor": 5
}
