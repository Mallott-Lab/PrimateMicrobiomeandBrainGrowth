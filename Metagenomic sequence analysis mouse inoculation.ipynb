{
 "cells": [
  {
   "cell_type": "markdown",
   "id": "fe08fcae",
   "metadata": {},
   "source": [
    "## Code for analyzing metagenomic sequencing data\n",
    "\n",
    "Code run locally to analyze metagenomic sequences from mice inoculated with primate gut microbiomes. Names of scripts run on an HPC are also noted."
   ]
  },
  {
   "cell_type": "markdown",
   "id": "0376860f",
   "metadata": {},
   "source": [
    "### Trimming and quality filtering\n",
    "\n",
    "These were performed using the kneaddata_array.sh script.\n",
    "\n",
    "### Microbiome profiling\n",
    "\n",
    "This was performed using the humann2_array.sh script. Normalization and regrouping were performed using the humann2_renorm.sh and humann2_regroup_renorm.sh scripts.\n",
    "\n",
    "### Split tables\n",
    "\n",
    "Humann2 output was split into stratified and unstratified tables before downstream analysis."
   ]
  },
  {
   "cell_type": "code",
   "execution_count": null,
   "id": "70b34d29",
   "metadata": {},
   "outputs": [],
   "source": [
    "humann2_split_stratified_table --input mouse_genefamilies_cpm.tsv --output mouse_genefamilies_cpm\n",
    "\n",
    "humann2_split_stratified_table --input mouse_pathabundance_relab.tsv --output mouse_pathabundance_relab\n",
    "\n",
    "humann2_split_stratified_table --input mouse_genefamilies_ko.tsv --output mouse_genefamilies_ko\n",
    "\n",
    "humann2_split_stratified_table --input mouse_pathabundance.tsv --output mouse_pathabundance\n"
   ]
  },
  {
   "cell_type": "markdown",
   "id": "b680d8f4",
   "metadata": {},
   "source": [
    "### Beta diversity calculations\n",
    "\n",
    "QIIME2 (v2019.10) was used to construct PCoA plots and calculate beta-diversity metrics. Only samples from adult-innoculated mice were analyzed."
   ]
  },
  {
   "cell_type": "code",
   "execution_count": null,
   "id": "37a59708",
   "metadata": {},
   "outputs": [],
   "source": [
    "source activate qiime2-2019.10\n",
    "\n",
    "biom convert -i /mouse_pathabundance/mouse_pathabundance_unstratified.tsv \\\n",
    "    -o /mouse_pathabundance/mouse_pathabundance_unstratified.biom --table-type \"Pathway table\" --to-hdf5\n",
    "\n",
    "biom convert -i /mouse_genefamilies_ko/mouse_genefamilies_ko_unstratified.tsv \\\n",
    "    -o /mouse_genefamilies_ko_unstratified.biom --table-type=\"OTU table\" --to-hdf5\n",
    "\n",
    "qiime tools import --input-path /mouse_pathabundance/mouse_pathabundance_unstratified.biom \\\n",
    "    --type 'FeatureTable[Frequency]' --input-format BIOMV210Format \\\n",
    "    --output-path mouse_pathabundance_unstratified.qza\n",
    "\n",
    "qiime tools import --input-path mouse_genefamilies_ko_unstratified.biom \\\n",
    "    --type 'FeatureTable[Frequency]' --input-format BIOMV210Format \\\n",
    "    --output-path mouse_genefamilies_ko_unstratified.qza\n",
    "\n",
    "qiime feature-table filter-samples \\\n",
    "    --i-table mouse_pathabundance_unstratified.qza \\\n",
    "    --m-metadata-file mapping_updated_072722.txt --p-where \"[Age]='adult'\" \\\n",
    "    --o-filtered-table mouse_pathabundance_unstratified_noinfant.qza\n",
    "\n",
    "qiime feature-table filter-samples \\\n",
    "    --i-table mouse_genefamilies_ko_unstratified.qza \\\n",
    "    --m-metadata-file mapping_genefam_updated_072722.txt --p-where \"[Age]='adult'\" \\\n",
    "    --o-filtered-table mouse_genefamilies_ko_unstratified_noinfant.qza\n",
    "\n",
    "qiime diversity core-metrics --i-table mouse_pathabundance_unstratified_noinfant.qza \\\n",
    "    --p-sampling-depth 4500000 --m-metadata-file mapping_update_072722_noinfant.txt \\\n",
    "    --output-dir pathabundance_unstratified_noinfant\n",
    "\n",
    "qiime diversity core-metrics --i-table mouse_genefamilies_ko_unstratified_noinfant.qza \\\n",
    "    --p-sampling-depth 13000000 --m-metadata-file mapping_genefam_update_072722_noinfant.txt \\\n",
    "    --output-dir genefamilies_unstratified_noinfant\n"
   ]
  },
  {
   "cell_type": "markdown",
   "id": "ba195dd7",
   "metadata": {},
   "source": [
    "### Diversity metrics were exported from QIIME2 \n",
    "\n",
    "Prior to downstream statistical analysis in R, we exported beta diversity distance matrices."
   ]
  },
  {
   "cell_type": "code",
   "execution_count": null,
   "id": "df8fe38d",
   "metadata": {},
   "outputs": [],
   "source": [
    "qiime tools export --input-path /pathabundance_unstratified_noinfant/bray_curtis_distance_matrix.qza \\\n",
    "    --output-path /pathabundance_unstratified_noinfant/bray-curtis-distance-matrix\n",
    "\n",
    "qiime tools export --input-path /pathabundance_unstratified_noinfant/jaccard_distance_matrix.qza \\\n",
    "    --output-path /pathabundance_unstratified_noinfant/jaccard-distance-matrix\n",
    "\n",
    "qiime tools export --input-path /genefamilies_unstratified_noinfant/bray_curtis_distance_matrix.qza \\\n",
    "    --output-path /genefamilies_unstratified_noinfant/bray-curtis-distance-matrix\n",
    "\n",
    "qiime tools export --input-path //genefamilies_unstratified_noinfant/jaccard_distance_matrix.qza \\\n",
    "    --output-path /genefamilies_unstratified_noinfant/jaccard-distance-matrix\n"
   ]
  },
  {
   "cell_type": "markdown",
   "id": "9ba7ec81",
   "metadata": {},
   "source": [
    "We also exported alpha diversity indices."
   ]
  },
  {
   "cell_type": "code",
   "execution_count": null,
   "id": "6c8cf81f",
   "metadata": {},
   "outputs": [],
   "source": [
    "qiime tools export --input-path /genefamilies_unstratified/evenness_vector.qza \\\n",
    "    --output-path /genefamilies_unstratified/evenness\n",
    "\n",
    "qiime tools export --input-path /genefamilies_unstratified/observed_otus_vector.qza \\\n",
    "    --output-path /genefamilies_unstratified/observed_otus\n",
    "\n",
    "qiime tools export --input-path /genefamilies_unstratified/shannon_vector.qza \\\n",
    "    --output-path /Users/elizabethmallott/Dropbox/Projects/Gut_microbiome/mouse_inoculation/shotgun/humann2_output/genefamilies_unstratified/shannon\n",
    "\n",
    "qiime tools export --input-path /pathabundance_unstratified/evenness_vector.qza \\\n",
    "    --output-path /pathabundance_unstratified/evenness\n",
    "\n",
    "qiime tools export --input-path /pathabundance_unstratified/observed_otus_vector.qza \\\n",
    "    --output-path /pathabundance_unstratified/observed_otus\n",
    "\n",
    "qiime tools export --input-path /pathabundance_unstratified/shannon_vector.qza \\\n",
    "    --output-path /pathabundance_unstratified/shannon\n"
   ]
  }
 ],
 "metadata": {
  "kernelspec": {
   "display_name": "Python 3 (ipykernel)",
   "language": "python",
   "name": "python3"
  },
  "language_info": {
   "codemirror_mode": {
    "name": "ipython",
    "version": 3
   },
   "file_extension": ".py",
   "mimetype": "text/x-python",
   "name": "python",
   "nbconvert_exporter": "python",
   "pygments_lexer": "ipython3",
   "version": "3.9.12"
  }
 },
 "nbformat": 4,
 "nbformat_minor": 5
}
